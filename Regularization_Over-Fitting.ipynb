{
 "cells": [
  {
   "cell_type": "markdown",
   "metadata": {},
   "source": [
    "# Over Fitting\n",
    "\n",
    "Over fitting happens when the model fits the learning data very good (has cost near to zero), this causes a worng prediction value.\n",
    "\n",
    "- what does that mean?\n",
    "  - if the model covers the learning data perfectly then it won't recognize the needed Predicted data which is the main purpose of the model.\n",
    "- Solutions?\n",
    "  - More Learning data:\n",
    "    - if the model overfits the given data then give the model more learning data to fit, so the model is nearly fits the data (min cost but not equal to zero)\n",
    "  - Select Specified Features:\n",
    "    - If the model contains many features, try to filter them to the important ones which don't cause overfitting\n",
    "  - Regularization\n",
    "    - Linear Regression with Regularization.\n",
    "    - Logistic Regression with Regularization."
   ]
  },
  {
   "cell_type": "markdown",
   "metadata": {},
   "source": [
    "# **Regularization**\n",
    "\n",
    "Regularization trying to penalize the model not to cause overfitting.\n"
   ]
  },
  {
   "cell_type": "markdown",
   "metadata": {},
   "source": [
    "## **Linear Regression with Regularization**\n",
    "\n",
    "As we know that the cost function for linear regression is defined by :\n",
    "    $$J(\\mathbf{w},b) = \\frac{1}{2m} \\sum\\limits_{i = 0}^{m-1} (f_{\\mathbf{w},b}(\\mathbf{x}^{(i)}) - y^{(i)})^2 $$ \n",
    "where:\n",
    "$$ f_{\\mathbf{w},b}(\\mathbf{x}^{(i)}) = \\mathbf{w} \\cdot \\mathbf{x}^{(i)} + b  $$ \n",
    "\n",
    "So in Regularization we add an extra term to penalize the cost function\n",
    "$\\frac{\\lambda}{2m}  \\sum_{j=0}^{n-1} w_j^2$ </span> \n",
    ", so it becomes as following:\n",
    "$$J(\\mathbf{w},b) = \\frac{1}{2m} \\sum\\limits_{i = 0}^{m-1} (f_{\\mathbf{w},b}(\\mathbf{x}^{(i)}) - y^{(i)})^2  + \\frac{\\lambda}{2m}  \\sum_{j=0}^{n-1} w_j^2 $$\n",
    "\n",
    "When using th eGradient Descent algorithm to find the parameters $w, b$ , with this term the gradiend descent will minimize these parameters.\n",
    "\n",
    "Let's code it\n"
   ]
  },
  {
   "cell_type": "code",
   "execution_count": 2,
   "metadata": {},
   "outputs": [],
   "source": [
    "import numpy as np\n",
    "import matplotlib.pyplot as plt"
   ]
  },
  {
   "cell_type": "code",
   "execution_count": 3,
   "metadata": {},
   "outputs": [],
   "source": [
    "def compute_cost_linear_reg(X, y, w, b, lambda_):\n",
    "    lambda_ = lambda_ | 1\n",
    "    m = len(y)\n",
    "    J = 0\n",
    "    cost = 0.\n",
    "    \n",
    "    # Compute the cost of a normal linear regression\n",
    "    for i in range(m):\n",
    "        cost += (np.dot(w, X[i]) + b - y[i])**2\n",
    "    cost /= (2*m)\n",
    "    \n",
    "    # compute the regularization term cost\n",
    "    reg = 0.\n",
    "    for i in range(m):\n",
    "        reg += w[i]**2\n",
    "    reg *= lambda_ / (2*m)\n",
    "    \n",
    "    J = reg + cost\n",
    "    return J"
   ]
  },
  {
   "cell_type": "markdown",
   "metadata": {},
   "source": [
    "### **Gradient Descent for Linear Regression with Regularization.**\n",
    "\n",
    "**As we know, we use gradiend descent algorithm to get the best parameters to minimize the model cost**\n",
    "\n",
    "Gradient Descent for Linear Regression:\n",
    "    $$\\begin{align*}\n",
    "\\; \\lbrace \\\\\n",
    "&  \\; \\; \\;w_j = w_j -  \\alpha \\frac{\\partial J(\\mathbf{w},b)}{\\partial w_j}   \\; & \\text{for j := 0..n-1} \\\\ \n",
    "&  \\; \\; \\;  \\; \\;b = b -  \\alpha \\frac{\\partial J(\\mathbf{w},b)}{\\partial b} \\\\\n",
    "&\\rbrace\n",
    "\\end{align*}$$\n",
    "\n",
    "where \n",
    "$$\\begin{align*}\n",
    "\\frac{\\partial J(\\mathbf{w},b)}{\\partial w_j}  &= \\frac{1}{m} \\sum\\limits_{i = 0}^{m-1} (f_{\\mathbf{w},b}(\\mathbf{x}^{(i)}) - y^{(i)})x_{j}^{(i)}  +  \\frac{\\lambda}{m} w_j  \\\\\n",
    "\\frac{\\partial J(\\mathbf{w},b)}{\\partial b}  &= \\frac{1}{m} \\sum\\limits_{i = 0}^{m-1} (f_{\\mathbf{w},b}(\\mathbf{x}^{(i)}) - y^{(i)})  \n",
    "\\end{align*}$$\n"
   ]
  },
  {
   "cell_type": "code",
   "execution_count": null,
   "metadata": {},
   "outputs": [],
   "source": [
    "def compute_gradient_descent_linear_reg(x,y, w, b, alpha, lambda_):\n",
    "    m,n = x.shape\n",
    "    \n",
    "    dw = np.zeros((n,))\n",
    "    db = 0.\n",
    "    \n",
    "    for i in range(m):\n",
    "        # err = w.x + b - y\n",
    "        err = np.dot(w, x[i]) + b - y[i]\n",
    "        for j in range(n):\n",
    "            # w1*x1 + w2*x2 + w3*x3 + b\n",
    "            dw[j] += err * x[i,j]\n",
    "        db += err\n",
    "    dw /= m\n",
    "    db /= m\n",
    "    # compute the regularization term\n",
    "    for j in range(n):\n",
    "        dw[j] += lambda_ * w[j] / m\n",
    "    return dw, db"
   ]
  },
  {
   "cell_type": "markdown",
   "metadata": {},
   "source": [
    "## **Logistic Regression with Regularization**\n",
    "\n",
    "As we know that the cost function for logistic regression is defined by :\n",
    "$$ J(\\mathbf{w},b) = \\frac{1}{m}\\sum_{i=0}^{m-1} \\left[ (-y^{(i)} \\log\\left(f_{\\mathbf{w},b}\\left( \\mathbf{x}^{(i)} \\right) \\right) - \\left( 1 - y^{(i)}\\right) \\log \\left( 1 - f_{\\mathbf{w},b}\\left( \\mathbf{x}^{(i)} \\right) \\right)\\right] $$\n",
    "\n",
    "where:\n",
    "$$ f_{\\mathbf{w},b}(\\mathbf{x}^{(i)}) = sigmoid(\\mathbf{w} \\cdot \\mathbf{x}^{(i)} + b)$$\n",
    "\n",
    "\n",
    "So in Regularization we add an extra term to penalize the cost function\n",
    "$\\frac{\\lambda}{2m}  \\sum_{j=0}^{n-1} w_j^2$ </span> \n",
    ", so it becomes as following:\n",
    "\n",
    "$$J(\\mathbf{w},b) = \\frac{1}{m}  \\sum_{i=0}^{m-1} \\left[ -y^{(i)} \\log\\left(f_{\\mathbf{w},b}\\left( \\mathbf{x}^{(i)} \\right) \\right) - \\left( 1 - y^{(i)}\\right) \\log \\left( 1 - f_{\\mathbf{w},b}\\left( \\mathbf{x}^{(i)} \\right) \\right) \\right] + \\frac{\\lambda}{2m}  \\sum_{j=0}^{n-1} w_j^2 $$\n",
    "When using th eGradient Descent algorithm to find the parameters $w, b$ , with this term the gradiend descent will minimize these parameters.\n",
    "\n",
    "Let's code it\n"
   ]
  },
  {
   "cell_type": "code",
   "execution_count": 4,
   "metadata": {},
   "outputs": [],
   "source": [
    "def cost_logistic(X, y, w, b, lambda_):\n",
    "    m = len(y)\n",
    "    J = 0\n",
    "    cost = 0.\n",
    "    \n",
    "    # Compute the cost of a normal logistic regression\n",
    "    for i in range(m):\n",
    "        cost += y[i] * np.log(1 / (1 + np.exp(-np.dot(w, X[i]) - b))) + (1 - y[i]) * np.log(1 - 1 / (1 + np.exp(-np.dot(w, X[i]) - b)))\n",
    "    cost /= -m\n",
    "    \n",
    "    # compute the regularization term cost\n",
    "    reg = 0.\n",
    "    for i in range(m):\n",
    "        reg += w[i]**2\n",
    "    reg *= lambda_ / (2*m)\n",
    "    \n",
    "    J = reg + cost\n",
    "    return J"
   ]
  },
  {
   "cell_type": "markdown",
   "metadata": {},
   "source": [
    "### **Gradient Descent for Logistc Regression with Regularization.**\n",
    "\n",
    "**As we know, we use gradiend descent algorithm to get the best parameters to minimize the model cost**\n",
    "\n",
    "Gradient Descent for Logistic Regression:\n",
    "    $$\\begin{align*}\n",
    "\\; \\lbrace \\\\\n",
    "&  \\; \\; \\;w_j = w_j -  \\alpha \\frac{\\partial J(\\mathbf{w},b)}{\\partial w_j}   \\; & \\text{for j := 0..n-1} \\\\ \n",
    "&  \\; \\; \\;  \\; \\;b = b -  \\alpha \\frac{\\partial J(\\mathbf{w},b)}{\\partial b} \\\\\n",
    "&\\rbrace\n",
    "\\end{align*}$$\n",
    "\n",
    "where \n",
    "$$\\begin{align*}\n",
    "\\frac{\\partial J(\\mathbf{w},b)}{\\partial w_j}  &= \\frac{1}{m} \\sum\\limits_{i = 0}^{m-1} (f_{\\mathbf{w},b}(\\mathbf{x}^{(i)}) - y^{(i)})x_{j}^{(i)}  +  \\frac{\\lambda}{m} w_j  \\\\\n",
    "\\frac{\\partial J(\\mathbf{w},b)}{\\partial b}  &= \\frac{1}{m} \\sum\\limits_{i = 0}^{m-1} (f_{\\mathbf{w},b}(\\mathbf{x}^{(i)}) - y^{(i)})  \n",
    "\\end{align*}$$\n",
    "**Remember the sigmoid function**\n",
    "\n",
    "$z = \\mathbf{w} \\cdot \\mathbf{x} + b$  \n",
    "    $f_{\\mathbf{w},b}(x) = g(z)$  \n",
    "    $g(z) = \\frac{1}{1+e^{-z}}$  \n"
   ]
  },
  {
   "cell_type": "code",
   "execution_count": 6,
   "metadata": {},
   "outputs": [],
   "source": [
    "def compuet_gradient_logistic(x, y, w, b, lambda_):\n",
    "    m,n = x.shape\n",
    "    \n",
    "    dw = np.zeros((n,))\n",
    "    db = 0.\n",
    "    \n",
    "    for i in range(m):\n",
    "        # err = f_wb - y\n",
    "        # f_wb = sigmoid(w.x + b)\n",
    "        err = sigmoid(np.dot(w, x[i]) + b) - y[i]\n",
    "        for j in range(n):\n",
    "            # w1*x1 + w2*x2 + w3*x3 + b\n",
    "            dw[j] += err * x[i,j]\n",
    "        db += err\n",
    "    dw /= m\n",
    "    db /= m\n",
    "    # compute the regularization term\n",
    "    for j in range(n):\n",
    "        dw[j] += lambda_ * w[j] / m\n",
    "    return dw, db\n",
    "\n",
    "def sigmoid(z):\n",
    "    return 1 / (1 + np.exp(-z))"
   ]
  },
  {
   "cell_type": "markdown",
   "metadata": {},
   "source": [
    "**Finally we learn about the overfitting problem and how to avoid it using Regularization**"
   ]
  }
 ],
 "metadata": {
  "kernelspec": {
   "display_name": "Python 3",
   "language": "python",
   "name": "python3"
  },
  "language_info": {
   "codemirror_mode": {
    "name": "ipython",
    "version": 3
   },
   "file_extension": ".py",
   "mimetype": "text/x-python",
   "name": "python",
   "nbconvert_exporter": "python",
   "pygments_lexer": "ipython3",
   "version": "3.11.5"
  }
 },
 "nbformat": 4,
 "nbformat_minor": 2
}
